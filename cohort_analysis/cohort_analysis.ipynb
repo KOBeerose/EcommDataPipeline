{
 "cells": [
  {
   "cell_type": "markdown",
   "id": "15be8d3c-b779-456f-aa89-32b1966ac063",
   "metadata": {},
   "source": [
    "# Cohort Analysis for Store Retention\r\n",
    "\r\n",
    "## 1. Load the Data\r\n",
    "\r\n",
    "Before we dive into the analysis, let's start by loading our data. We're using Pandas here, which is perfect for handling and analyzing large datasets. We'll load our store and order data from CSV files."
   ]
  },
  {
   "cell_type": "code",
   "execution_count": 1,
   "id": "23dca62e-2b0f-4c74-acdc-8695c5c9e00b",
   "metadata": {},
   "outputs": [],
   "source": [
    "import pandas as pd\n",
    "\n",
    "# Load store and order data\n",
    "stores_df = pd.read_csv('../datasets/generated/stores.csv')\n",
    "orders_df = pd.read_csv('../datasets/generated/orders.csv')"
   ]
  },
  {
   "cell_type": "code",
   "execution_count": 2,
   "id": "8ecd3ffa-9367-48cb-8bdb-e2d18429a876",
   "metadata": {},
   "outputs": [
    {
     "data": {
      "text/html": [
       "<div>\n",
       "<style scoped>\n",
       "    .dataframe tbody tr th:only-of-type {\n",
       "        vertical-align: middle;\n",
       "    }\n",
       "\n",
       "    .dataframe tbody tr th {\n",
       "        vertical-align: top;\n",
       "    }\n",
       "\n",
       "    .dataframe thead th {\n",
       "        text-align: right;\n",
       "    }\n",
       "</style>\n",
       "<table border=\"1\" class=\"dataframe\">\n",
       "  <thead>\n",
       "    <tr style=\"text-align: right;\">\n",
       "      <th></th>\n",
       "      <th>slug</th>\n",
       "      <th>created_at</th>\n",
       "      <th>country_id</th>\n",
       "    </tr>\n",
       "  </thead>\n",
       "  <tbody>\n",
       "    <tr>\n",
       "      <th>0</th>\n",
       "      <td>Lewis, Johnston and Mueller</td>\n",
       "      <td>2019-10-20 15:05:13</td>\n",
       "      <td>12</td>\n",
       "    </tr>\n",
       "    <tr>\n",
       "      <th>1</th>\n",
       "      <td>Gray-Rodriguez</td>\n",
       "      <td>2019-07-06 23:34:48</td>\n",
       "      <td>10</td>\n",
       "    </tr>\n",
       "    <tr>\n",
       "      <th>2</th>\n",
       "      <td>Nelson-Rogers</td>\n",
       "      <td>2018-05-21 04:27:40</td>\n",
       "      <td>20</td>\n",
       "    </tr>\n",
       "    <tr>\n",
       "      <th>3</th>\n",
       "      <td>Rice, Long and Kim</td>\n",
       "      <td>2019-05-02 10:40:32</td>\n",
       "      <td>5</td>\n",
       "    </tr>\n",
       "    <tr>\n",
       "      <th>4</th>\n",
       "      <td>Mcgee-Holmes</td>\n",
       "      <td>2019-02-14 20:23:34</td>\n",
       "      <td>11</td>\n",
       "    </tr>\n",
       "    <tr>\n",
       "      <th>...</th>\n",
       "      <td>...</td>\n",
       "      <td>...</td>\n",
       "      <td>...</td>\n",
       "    </tr>\n",
       "    <tr>\n",
       "      <th>495</th>\n",
       "      <td>Barry, Greene and Hernandez</td>\n",
       "      <td>2018-01-25 23:17:57</td>\n",
       "      <td>6</td>\n",
       "    </tr>\n",
       "    <tr>\n",
       "      <th>496</th>\n",
       "      <td>Morris-Thomas</td>\n",
       "      <td>2017-12-30 06:34:43</td>\n",
       "      <td>13</td>\n",
       "    </tr>\n",
       "    <tr>\n",
       "      <th>497</th>\n",
       "      <td>Wood, Ray and Harris</td>\n",
       "      <td>2018-06-29 08:33:08</td>\n",
       "      <td>7</td>\n",
       "    </tr>\n",
       "    <tr>\n",
       "      <th>498</th>\n",
       "      <td>Holmes-Walker</td>\n",
       "      <td>2017-06-10 20:04:41</td>\n",
       "      <td>18</td>\n",
       "    </tr>\n",
       "    <tr>\n",
       "      <th>499</th>\n",
       "      <td>Clark Group</td>\n",
       "      <td>2017-03-15 09:30:23</td>\n",
       "      <td>7</td>\n",
       "    </tr>\n",
       "  </tbody>\n",
       "</table>\n",
       "<p>500 rows × 3 columns</p>\n",
       "</div>"
      ],
      "text/plain": [
       "                            slug           created_at  country_id\n",
       "0    Lewis, Johnston and Mueller  2019-10-20 15:05:13          12\n",
       "1                 Gray-Rodriguez  2019-07-06 23:34:48          10\n",
       "2                  Nelson-Rogers  2018-05-21 04:27:40          20\n",
       "3             Rice, Long and Kim  2019-05-02 10:40:32           5\n",
       "4                   Mcgee-Holmes  2019-02-14 20:23:34          11\n",
       "..                           ...                  ...         ...\n",
       "495  Barry, Greene and Hernandez  2018-01-25 23:17:57           6\n",
       "496                Morris-Thomas  2017-12-30 06:34:43          13\n",
       "497         Wood, Ray and Harris  2018-06-29 08:33:08           7\n",
       "498                Holmes-Walker  2017-06-10 20:04:41          18\n",
       "499                  Clark Group  2017-03-15 09:30:23           7\n",
       "\n",
       "[500 rows x 3 columns]"
      ]
     },
     "execution_count": 2,
     "metadata": {},
     "output_type": "execute_result"
    }
   ],
   "source": [
    "stores_df"
   ]
  },
  {
   "cell_type": "code",
   "execution_count": 3,
   "id": "7111607b-6c71-4079-aeba-782571c281d7",
   "metadata": {},
   "outputs": [
    {
     "data": {
      "text/html": [
       "<div>\n",
       "<style scoped>\n",
       "    .dataframe tbody tr th:only-of-type {\n",
       "        vertical-align: middle;\n",
       "    }\n",
       "\n",
       "    .dataframe tbody tr th {\n",
       "        vertical-align: top;\n",
       "    }\n",
       "\n",
       "    .dataframe thead th {\n",
       "        text-align: right;\n",
       "    }\n",
       "</style>\n",
       "<table border=\"1\" class=\"dataframe\">\n",
       "  <thead>\n",
       "    <tr style=\"text-align: right;\">\n",
       "      <th></th>\n",
       "      <th>type</th>\n",
       "      <th>store_id</th>\n",
       "      <th>created_at</th>\n",
       "    </tr>\n",
       "  </thead>\n",
       "  <tbody>\n",
       "    <tr>\n",
       "      <th>0</th>\n",
       "      <td>Pickup</td>\n",
       "      <td>1</td>\n",
       "      <td>2019-12-25 04:41:21</td>\n",
       "    </tr>\n",
       "    <tr>\n",
       "      <th>1</th>\n",
       "      <td>Pickup</td>\n",
       "      <td>1</td>\n",
       "      <td>2019-10-28 11:00:26</td>\n",
       "    </tr>\n",
       "    <tr>\n",
       "      <th>2</th>\n",
       "      <td>In-Store</td>\n",
       "      <td>1</td>\n",
       "      <td>2019-12-05 09:16:21</td>\n",
       "    </tr>\n",
       "    <tr>\n",
       "      <th>3</th>\n",
       "      <td>In-Store</td>\n",
       "      <td>1</td>\n",
       "      <td>2019-12-06 22:57:37</td>\n",
       "    </tr>\n",
       "    <tr>\n",
       "      <th>4</th>\n",
       "      <td>Pickup</td>\n",
       "      <td>1</td>\n",
       "      <td>2019-10-21 17:50:48</td>\n",
       "    </tr>\n",
       "    <tr>\n",
       "      <th>...</th>\n",
       "      <td>...</td>\n",
       "      <td>...</td>\n",
       "      <td>...</td>\n",
       "    </tr>\n",
       "    <tr>\n",
       "      <th>492501</th>\n",
       "      <td>Online</td>\n",
       "      <td>500</td>\n",
       "      <td>2017-09-26 16:54:41</td>\n",
       "    </tr>\n",
       "    <tr>\n",
       "      <th>492502</th>\n",
       "      <td>Online</td>\n",
       "      <td>500</td>\n",
       "      <td>2019-12-31 05:19:42</td>\n",
       "    </tr>\n",
       "    <tr>\n",
       "      <th>492503</th>\n",
       "      <td>Online</td>\n",
       "      <td>500</td>\n",
       "      <td>2017-07-22 03:06:22</td>\n",
       "    </tr>\n",
       "    <tr>\n",
       "      <th>492504</th>\n",
       "      <td>In-Store</td>\n",
       "      <td>500</td>\n",
       "      <td>2019-04-23 16:20:52</td>\n",
       "    </tr>\n",
       "    <tr>\n",
       "      <th>492505</th>\n",
       "      <td>Online</td>\n",
       "      <td>500</td>\n",
       "      <td>2017-04-25 10:00:25</td>\n",
       "    </tr>\n",
       "  </tbody>\n",
       "</table>\n",
       "<p>492506 rows × 3 columns</p>\n",
       "</div>"
      ],
      "text/plain": [
       "            type  store_id           created_at\n",
       "0         Pickup         1  2019-12-25 04:41:21\n",
       "1         Pickup         1  2019-10-28 11:00:26\n",
       "2       In-Store         1  2019-12-05 09:16:21\n",
       "3       In-Store         1  2019-12-06 22:57:37\n",
       "4         Pickup         1  2019-10-21 17:50:48\n",
       "...          ...       ...                  ...\n",
       "492501    Online       500  2017-09-26 16:54:41\n",
       "492502    Online       500  2019-12-31 05:19:42\n",
       "492503    Online       500  2017-07-22 03:06:22\n",
       "492504  In-Store       500  2019-04-23 16:20:52\n",
       "492505    Online       500  2017-04-25 10:00:25\n",
       "\n",
       "[492506 rows x 3 columns]"
      ]
     },
     "execution_count": 3,
     "metadata": {},
     "output_type": "execute_result"
    }
   ],
   "source": [
    "orders_df"
   ]
  },
  {
   "cell_type": "markdown",
   "id": "8ceab18e-fadd-4562-920a-88ce1d50d7b2",
   "metadata": {},
   "source": [
    "## 2. Preprocess the Data\r\n",
    "Data isn't always in the format we need. So, let's clean it up!."
   ]
  },
  {
   "cell_type": "code",
   "execution_count": 4,
   "id": "cadcbbe1-322b-452c-a26b-77ec87ad8049",
   "metadata": {
    "scrolled": true
   },
   "outputs": [
    {
     "data": {
      "text/plain": [
       "0      2019-10-20 15:05:13\n",
       "1      2019-07-06 23:34:48\n",
       "2      2018-05-21 04:27:40\n",
       "3      2019-05-02 10:40:32\n",
       "4      2019-02-14 20:23:34\n",
       "              ...         \n",
       "495    2018-01-25 23:17:57\n",
       "496    2017-12-30 06:34:43\n",
       "497    2018-06-29 08:33:08\n",
       "498    2017-06-10 20:04:41\n",
       "499    2017-03-15 09:30:23\n",
       "Name: created_at, Length: 500, dtype: object"
      ]
     },
     "execution_count": 4,
     "metadata": {},
     "output_type": "execute_result"
    }
   ],
   "source": [
    "stores_df['created_at']"
   ]
  },
  {
   "cell_type": "code",
   "execution_count": 5,
   "id": "3be7a7db-dee5-4f9d-839a-2485d09a44d8",
   "metadata": {
    "scrolled": true
   },
   "outputs": [
    {
     "data": {
      "text/plain": [
       "0         2019-12-25 04:41:21\n",
       "1         2019-10-28 11:00:26\n",
       "2         2019-12-05 09:16:21\n",
       "3         2019-12-06 22:57:37\n",
       "4         2019-10-21 17:50:48\n",
       "                 ...         \n",
       "492501    2017-09-26 16:54:41\n",
       "492502    2019-12-31 05:19:42\n",
       "492503    2017-07-22 03:06:22\n",
       "492504    2019-04-23 16:20:52\n",
       "492505    2017-04-25 10:00:25\n",
       "Name: created_at, Length: 492506, dtype: object"
      ]
     },
     "execution_count": 5,
     "metadata": {},
     "output_type": "execute_result"
    }
   ],
   "source": [
    "orders_df['created_at']"
   ]
  },
  {
   "cell_type": "markdown",
   "id": "55411a09-7666-497d-99e9-e5dc1c4dfded",
   "metadata": {},
   "source": [
    " We'll convert dates to a proper format and handle any missing values to ensure our dataset is analysis-ready"
   ]
  },
  {
   "cell_type": "code",
   "execution_count": 6,
   "id": "01249fef-958b-47a2-be99-e44fd018007f",
   "metadata": {},
   "outputs": [
    {
     "name": "stderr",
     "output_type": "stream",
     "text": [
      "C:\\Users\\taha\\AppData\\Local\\Temp\\ipykernel_22232\\2777580981.py:6: FutureWarning: DataFrame.fillna with 'method' is deprecated and will raise in a future version. Use obj.ffill() or obj.bfill() instead.\n",
      "  stores_df.fillna(method='ffill', inplace=True)\n"
     ]
    }
   ],
   "source": [
    "# Convert date columns to datetime objects\n",
    "stores_df['created_at'] = pd.to_datetime(stores_df['created_at'])\n",
    "orders_df['created_at'] = pd.to_datetime(orders_df['created_at'])\n",
    "\n",
    "# Fill any missing data\n",
    "stores_df.fillna(method='ffill', inplace=True)\n"
   ]
  },
  {
   "cell_type": "markdown",
   "id": "dc34db46-31ce-4a1d-aba8-673388deeb90",
   "metadata": {},
   "source": [
    "Let's check our data again"
   ]
  },
  {
   "cell_type": "code",
   "execution_count": 7,
   "id": "4ccc36ac-2bcf-4cbe-8ef2-745f6f6921f0",
   "metadata": {},
   "outputs": [
    {
     "data": {
      "text/plain": [
       "0     2019-10-20 15:05:13\n",
       "1     2019-07-06 23:34:48\n",
       "2     2018-05-21 04:27:40\n",
       "3     2019-05-02 10:40:32\n",
       "4     2019-02-14 20:23:34\n",
       "              ...        \n",
       "495   2018-01-25 23:17:57\n",
       "496   2017-12-30 06:34:43\n",
       "497   2018-06-29 08:33:08\n",
       "498   2017-06-10 20:04:41\n",
       "499   2017-03-15 09:30:23\n",
       "Name: created_at, Length: 500, dtype: datetime64[ns]"
      ]
     },
     "execution_count": 7,
     "metadata": {},
     "output_type": "execute_result"
    }
   ],
   "source": [
    "stores_df['created_at']"
   ]
  },
  {
   "cell_type": "code",
   "execution_count": 8,
   "id": "5cad5149-6667-437d-b079-8bf15e8e19b3",
   "metadata": {},
   "outputs": [
    {
     "data": {
      "text/plain": [
       "0        2019-12-25 04:41:21\n",
       "1        2019-10-28 11:00:26\n",
       "2        2019-12-05 09:16:21\n",
       "3        2019-12-06 22:57:37\n",
       "4        2019-10-21 17:50:48\n",
       "                 ...        \n",
       "492501   2017-09-26 16:54:41\n",
       "492502   2019-12-31 05:19:42\n",
       "492503   2017-07-22 03:06:22\n",
       "492504   2019-04-23 16:20:52\n",
       "492505   2017-04-25 10:00:25\n",
       "Name: created_at, Length: 492506, dtype: datetime64[ns]"
      ]
     },
     "execution_count": 8,
     "metadata": {},
     "output_type": "execute_result"
    }
   ],
   "source": [
    "orders_df['created_at']"
   ]
  },
  {
   "cell_type": "markdown",
   "id": "bf1ef7ce-ccac-457f-a46d-edb88737f2c8",
   "metadata": {},
   "source": [
    "## 3. Define Cohorts and Calculate Cohort Sizes\r\n",
    "Now, let's define our cohorts. A cohort is a group of stores that started at the same time. We'll categorize stores based on their creation month for our analysis."
   ]
  },
  {
   "cell_type": "code",
   "execution_count": 9,
   "id": "07891ba6-6b89-41ba-ab52-78166680cb0b",
   "metadata": {},
   "outputs": [],
   "source": [
    "# Creating a cohort based on the month stores were added\n",
    "stores_df['Cohort'] = stores_df['created_at'].dt.to_period('M')\n"
   ]
  },
  {
   "cell_type": "code",
   "execution_count": 10,
   "id": "bc3a85f0-4b3f-4902-a64e-241fee6edafc",
   "metadata": {},
   "outputs": [
    {
     "data": {
      "text/plain": [
       "0      2019-10\n",
       "1      2019-07\n",
       "2      2018-05\n",
       "3      2019-05\n",
       "4      2019-02\n",
       "        ...   \n",
       "495    2018-01\n",
       "496    2017-12\n",
       "497    2018-06\n",
       "498    2017-06\n",
       "499    2017-03\n",
       "Name: Cohort, Length: 500, dtype: period[M]"
      ]
     },
     "execution_count": 10,
     "metadata": {},
     "output_type": "execute_result"
    }
   ],
   "source": [
    "stores_df['Cohort'] "
   ]
  },
  {
   "cell_type": "markdown",
   "id": "5331eda1-4d85-4d9b-9fcb-e54f22fcb4d1",
   "metadata": {},
   "source": [
    "## 4. Merge with Transactional Data\r\n",
    "Next up, we merge our store data with their corresponding orders. This helps us track how active each store is over time, which is crucial for our retention analysis."
   ]
  },
  {
   "cell_type": "code",
   "execution_count": 11,
   "id": "cd93cbd0-d655-488c-80d5-20312bc75ecf",
   "metadata": {},
   "outputs": [],
   "source": [
    "# Merge store data with order data\n",
    "merged_df = pd.merge(orders_df, stores_df, left_on='store_id', right_index=True)\n"
   ]
  },
  {
   "cell_type": "code",
   "execution_count": 12,
   "id": "812a8936-0920-40d1-a356-0d37e97ebda9",
   "metadata": {
    "scrolled": true
   },
   "outputs": [
    {
     "name": "stdout",
     "output_type": "stream",
     "text": [
      "<class 'pandas.core.frame.DataFrame'>\n",
      "Index: 491534 entries, 0 to 491533\n",
      "Data columns (total 7 columns):\n",
      " #   Column        Non-Null Count   Dtype         \n",
      "---  ------        --------------   -----         \n",
      " 0   type          491534 non-null  object        \n",
      " 1   store_id      491534 non-null  int64         \n",
      " 2   created_at_x  491534 non-null  datetime64[ns]\n",
      " 3   slug          491534 non-null  object        \n",
      " 4   created_at_y  491534 non-null  datetime64[ns]\n",
      " 5   country_id    491534 non-null  int64         \n",
      " 6   Cohort        491534 non-null  period[M]     \n",
      "dtypes: datetime64[ns](2), int64(2), object(2), period[M](1)\n",
      "memory usage: 30.0+ MB\n"
     ]
    }
   ],
   "source": [
    "merged_df.info()"
   ]
  },
  {
   "cell_type": "code",
   "execution_count": 13,
   "id": "cfb31503-ae55-40df-bf34-fb6bccb9fbb3",
   "metadata": {},
   "outputs": [],
   "source": [
    "# Rename 'created_at_x' to 'order_date' and 'created_at_y' to 'store_created_at'\n",
    "merged_df = merged_df.rename(columns={'created_at_x': 'order_date', 'created_at_y': 'store_created_at'})\n"
   ]
  },
  {
   "cell_type": "code",
   "execution_count": 14,
   "id": "7b5105f2-02ea-44c4-8374-2d7763c27533",
   "metadata": {},
   "outputs": [
    {
     "data": {
      "text/html": [
       "<div>\n",
       "<style scoped>\n",
       "    .dataframe tbody tr th:only-of-type {\n",
       "        vertical-align: middle;\n",
       "    }\n",
       "\n",
       "    .dataframe tbody tr th {\n",
       "        vertical-align: top;\n",
       "    }\n",
       "\n",
       "    .dataframe thead th {\n",
       "        text-align: right;\n",
       "    }\n",
       "</style>\n",
       "<table border=\"1\" class=\"dataframe\">\n",
       "  <thead>\n",
       "    <tr style=\"text-align: right;\">\n",
       "      <th></th>\n",
       "      <th>type</th>\n",
       "      <th>store_id</th>\n",
       "      <th>order_date</th>\n",
       "      <th>slug</th>\n",
       "      <th>store_created_at</th>\n",
       "      <th>country_id</th>\n",
       "      <th>Cohort</th>\n",
       "    </tr>\n",
       "  </thead>\n",
       "  <tbody>\n",
       "    <tr>\n",
       "      <th>0</th>\n",
       "      <td>Pickup</td>\n",
       "      <td>1</td>\n",
       "      <td>2019-12-25 04:41:21</td>\n",
       "      <td>Gray-Rodriguez</td>\n",
       "      <td>2019-07-06 23:34:48</td>\n",
       "      <td>10</td>\n",
       "      <td>2019-07</td>\n",
       "    </tr>\n",
       "    <tr>\n",
       "      <th>1</th>\n",
       "      <td>Pickup</td>\n",
       "      <td>1</td>\n",
       "      <td>2019-10-28 11:00:26</td>\n",
       "      <td>Gray-Rodriguez</td>\n",
       "      <td>2019-07-06 23:34:48</td>\n",
       "      <td>10</td>\n",
       "      <td>2019-07</td>\n",
       "    </tr>\n",
       "    <tr>\n",
       "      <th>2</th>\n",
       "      <td>In-Store</td>\n",
       "      <td>1</td>\n",
       "      <td>2019-12-05 09:16:21</td>\n",
       "      <td>Gray-Rodriguez</td>\n",
       "      <td>2019-07-06 23:34:48</td>\n",
       "      <td>10</td>\n",
       "      <td>2019-07</td>\n",
       "    </tr>\n",
       "    <tr>\n",
       "      <th>3</th>\n",
       "      <td>In-Store</td>\n",
       "      <td>1</td>\n",
       "      <td>2019-12-06 22:57:37</td>\n",
       "      <td>Gray-Rodriguez</td>\n",
       "      <td>2019-07-06 23:34:48</td>\n",
       "      <td>10</td>\n",
       "      <td>2019-07</td>\n",
       "    </tr>\n",
       "    <tr>\n",
       "      <th>4</th>\n",
       "      <td>Pickup</td>\n",
       "      <td>1</td>\n",
       "      <td>2019-10-21 17:50:48</td>\n",
       "      <td>Gray-Rodriguez</td>\n",
       "      <td>2019-07-06 23:34:48</td>\n",
       "      <td>10</td>\n",
       "      <td>2019-07</td>\n",
       "    </tr>\n",
       "    <tr>\n",
       "      <th>...</th>\n",
       "      <td>...</td>\n",
       "      <td>...</td>\n",
       "      <td>...</td>\n",
       "      <td>...</td>\n",
       "      <td>...</td>\n",
       "      <td>...</td>\n",
       "      <td>...</td>\n",
       "    </tr>\n",
       "    <tr>\n",
       "      <th>491529</th>\n",
       "      <td>In-Store</td>\n",
       "      <td>499</td>\n",
       "      <td>2019-12-20 04:33:01</td>\n",
       "      <td>Clark Group</td>\n",
       "      <td>2017-03-15 09:30:23</td>\n",
       "      <td>7</td>\n",
       "      <td>2017-03</td>\n",
       "    </tr>\n",
       "    <tr>\n",
       "      <th>491530</th>\n",
       "      <td>Pickup</td>\n",
       "      <td>499</td>\n",
       "      <td>2019-03-10 18:48:07</td>\n",
       "      <td>Clark Group</td>\n",
       "      <td>2017-03-15 09:30:23</td>\n",
       "      <td>7</td>\n",
       "      <td>2017-03</td>\n",
       "    </tr>\n",
       "    <tr>\n",
       "      <th>491531</th>\n",
       "      <td>Pickup</td>\n",
       "      <td>499</td>\n",
       "      <td>2018-01-16 14:06:44</td>\n",
       "      <td>Clark Group</td>\n",
       "      <td>2017-03-15 09:30:23</td>\n",
       "      <td>7</td>\n",
       "      <td>2017-03</td>\n",
       "    </tr>\n",
       "    <tr>\n",
       "      <th>491532</th>\n",
       "      <td>In-Store</td>\n",
       "      <td>499</td>\n",
       "      <td>2018-07-05 18:11:57</td>\n",
       "      <td>Clark Group</td>\n",
       "      <td>2017-03-15 09:30:23</td>\n",
       "      <td>7</td>\n",
       "      <td>2017-03</td>\n",
       "    </tr>\n",
       "    <tr>\n",
       "      <th>491533</th>\n",
       "      <td>Pickup</td>\n",
       "      <td>499</td>\n",
       "      <td>2019-06-05 03:09:26</td>\n",
       "      <td>Clark Group</td>\n",
       "      <td>2017-03-15 09:30:23</td>\n",
       "      <td>7</td>\n",
       "      <td>2017-03</td>\n",
       "    </tr>\n",
       "  </tbody>\n",
       "</table>\n",
       "<p>491534 rows × 7 columns</p>\n",
       "</div>"
      ],
      "text/plain": [
       "            type  store_id          order_date            slug  \\\n",
       "0         Pickup         1 2019-12-25 04:41:21  Gray-Rodriguez   \n",
       "1         Pickup         1 2019-10-28 11:00:26  Gray-Rodriguez   \n",
       "2       In-Store         1 2019-12-05 09:16:21  Gray-Rodriguez   \n",
       "3       In-Store         1 2019-12-06 22:57:37  Gray-Rodriguez   \n",
       "4         Pickup         1 2019-10-21 17:50:48  Gray-Rodriguez   \n",
       "...          ...       ...                 ...             ...   \n",
       "491529  In-Store       499 2019-12-20 04:33:01     Clark Group   \n",
       "491530    Pickup       499 2019-03-10 18:48:07     Clark Group   \n",
       "491531    Pickup       499 2018-01-16 14:06:44     Clark Group   \n",
       "491532  In-Store       499 2018-07-05 18:11:57     Clark Group   \n",
       "491533    Pickup       499 2019-06-05 03:09:26     Clark Group   \n",
       "\n",
       "          store_created_at  country_id   Cohort  \n",
       "0      2019-07-06 23:34:48          10  2019-07  \n",
       "1      2019-07-06 23:34:48          10  2019-07  \n",
       "2      2019-07-06 23:34:48          10  2019-07  \n",
       "3      2019-07-06 23:34:48          10  2019-07  \n",
       "4      2019-07-06 23:34:48          10  2019-07  \n",
       "...                    ...         ...      ...  \n",
       "491529 2017-03-15 09:30:23           7  2017-03  \n",
       "491530 2017-03-15 09:30:23           7  2017-03  \n",
       "491531 2017-03-15 09:30:23           7  2017-03  \n",
       "491532 2017-03-15 09:30:23           7  2017-03  \n",
       "491533 2017-03-15 09:30:23           7  2017-03  \n",
       "\n",
       "[491534 rows x 7 columns]"
      ]
     },
     "execution_count": 14,
     "metadata": {},
     "output_type": "execute_result"
    }
   ],
   "source": [
    "merged_df"
   ]
  },
  {
   "cell_type": "markdown",
   "id": "d35e244b-be55-4be5-846f-835218eb36c0",
   "metadata": {},
   "source": [
    "## 5. Calculate Retention\r\n",
    "It's crunch time! Let's calculate the retention rate. We want to see how many stores from each cohort continue to be active in the following months."
   ]
  },
  {
   "cell_type": "code",
   "execution_count": 15,
   "id": "3bdb1407-d30d-455a-acaa-3f6e458de285",
   "metadata": {},
   "outputs": [],
   "source": [
    "from operator import attrgetter\n",
    "\n",
    "# Assign acquisition month cohort\n",
    "merged_df['OrderMonth'] = merged_df['order_date'].dt.to_period('M')\n",
    "merged_df['CohortIndex'] = (merged_df['OrderMonth'] - merged_df['Cohort']).apply(attrgetter('n'))\n",
    "\n",
    "# Create a retention table\n",
    "cohort_data = merged_df.groupby(['Cohort', 'CohortIndex'])['store_id'].nunique().reset_index()\n",
    "cohort_count = cohort_data.pivot_table(index='Cohort', columns='CohortIndex', values='store_id')\n",
    "\n",
    "# Calculate retention as a percentage\n",
    "cohort_size = cohort_count.iloc[:,0]\n",
    "retention = cohort_count.divide(cohort_size, axis=0)\n"
   ]
  },
  {
   "cell_type": "markdown",
   "id": "a0d59b4e-8258-44a7-a13d-48e441cd05f5",
   "metadata": {},
   "source": [
    "## 6. Visualize the Results\r\n",
    "Finally, let's make our results easy to understand with a visualization. A heatmap works great here, showing us at a glance how well each cohort retains stores over time."
   ]
  },
  {
   "cell_type": "code",
   "execution_count": 16,
   "id": "12420b8b-9542-4a3c-8f0c-0e61b0fd2a11",
   "metadata": {},
   "outputs": [
    {
     "data": {
      "image/png": "[encoded data removed]",
      "text/plain": [
       "<Figure size 1400x700 with 2 Axes>"
      ]
     },
     "metadata": {},
     "output_type": "display_data"
    }
   ],
   "source": [
    "import seaborn as sns\n",
    "import matplotlib.pyplot as plt\n",
    "\n",
    "plt.figure(figsize=(14, 7))\n",
    "sns.heatmap(data=retention, annot=True, fmt='.0%')\n",
    "plt.title('Cohort Analysis - Store Retention')\n",
    "plt.show()\n"
   ]
  },
  {
   "cell_type": "markdown",
   "id": "ccc8e7e3-026f-4578-aa82-9e32563dbec7",
   "metadata": {},
   "source": [
    "And here we have a cohort analysis that provides us valuable insights into how well our stores are being retained over time."
   ]
  }
 ],
 "metadata": {
  "kernelspec": {
   "display_name": "Python 3 (ipykernel)",
   "language": "python",
   "name": "python3"
  },
  "language_info": {
   "codemirror_mode": {
    "name": "ipython",
    "version": 3
   },
   "file_extension": ".py",
   "mimetype": "text/x-python",
   "name": "python",
   "nbconvert_exporter": "python",
   "pygments_lexer": "ipython3",
   "version": "3.11.2"
  }
 },
 "nbformat": 4,
 "nbformat_minor": 5
}
