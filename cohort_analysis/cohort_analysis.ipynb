{
 "cells": [
  {
   "cell_type": "markdown",
   "id": "15be8d3c-b779-456f-aa89-32b1966ac063",
   "metadata": {},
   "source": [
    "# Cohort Analysis for Store Retention\r\n",
    "\r\n",
    "## 1. Load the Data\r\n",
    "\r\n",
    "Before we dive into the analysis, let's start by loading our data. We're using Pandas here, which is perfect for handling and analyzing large datasets. We'll load our store and order data from CSV files."
   ]
  },
  {
   "cell_type": "code",
   "execution_count": 1,
   "id": "23dca62e-2b0f-4c74-acdc-8695c5c9e00b",
   "metadata": {},
   "outputs": [],
   "source": [
    "import pandas as pd\n",
    "\n",
    "# Load store and order data\n",
    "stores_df = pd.read_csv('../datasets/stores.csv')\n",
    "orders_df = pd.read_csv('../datasets//orders.csv')"
   ]
  },
  {
   "cell_type": "code",
   "execution_count": 2,
   "id": "8ecd3ffa-9367-48cb-8bdb-e2d18429a876",
   "metadata": {},
   "outputs": [
    {
     "data": {
      "text/html": [
       "<div>\n",
       "<style scoped>\n",
       "    .dataframe tbody tr th:only-of-type {\n",
       "        vertical-align: middle;\n",
       "    }\n",
       "\n",
       "    .dataframe tbody tr th {\n",
       "        vertical-align: top;\n",
       "    }\n",
       "\n",
       "    .dataframe thead th {\n",
       "        text-align: right;\n",
       "    }\n",
       "</style>\n",
       "<table border=\"1\" class=\"dataframe\">\n",
       "  <thead>\n",
       "    <tr style=\"text-align: right;\">\n",
       "      <th></th>\n",
       "      <th>id</th>\n",
       "      <th>slug</th>\n",
       "      <th>city_id</th>\n",
       "      <th>created_at</th>\n",
       "    </tr>\n",
       "  </thead>\n",
       "  <tbody>\n",
       "    <tr>\n",
       "      <th>0</th>\n",
       "      <td>567335</td>\n",
       "      <td>ab-foods-point</td>\n",
       "      <td>1</td>\n",
       "      <td>2016-12-18</td>\n",
       "    </tr>\n",
       "    <tr>\n",
       "      <th>1</th>\n",
       "      <td>531342</td>\n",
       "      <td>janta-sweet-house</td>\n",
       "      <td>1</td>\n",
       "      <td>2017-12-31</td>\n",
       "    </tr>\n",
       "    <tr>\n",
       "      <th>2</th>\n",
       "      <td>158203</td>\n",
       "      <td>theka-coffee-desi</td>\n",
       "      <td>1</td>\n",
       "      <td>2017-08-19</td>\n",
       "    </tr>\n",
       "    <tr>\n",
       "      <th>3</th>\n",
       "      <td>187912</td>\n",
       "      <td>singh-hut</td>\n",
       "      <td>1</td>\n",
       "      <td>2017-05-27</td>\n",
       "    </tr>\n",
       "    <tr>\n",
       "      <th>4</th>\n",
       "      <td>543530</td>\n",
       "      <td>grill-masters</td>\n",
       "      <td>1</td>\n",
       "      <td>2017-08-12</td>\n",
       "    </tr>\n",
       "    <tr>\n",
       "      <th>...</th>\n",
       "      <td>...</td>\n",
       "      <td>...</td>\n",
       "      <td>...</td>\n",
       "      <td>...</td>\n",
       "    </tr>\n",
       "    <tr>\n",
       "      <th>148536</th>\n",
       "      <td>553122</td>\n",
       "      <td>the-food-delight</td>\n",
       "      <td>821</td>\n",
       "      <td>2018-06-27</td>\n",
       "    </tr>\n",
       "    <tr>\n",
       "      <th>148537</th>\n",
       "      <td>562647</td>\n",
       "      <td>maitri-foods-beverages</td>\n",
       "      <td>821</td>\n",
       "      <td>2018-12-01</td>\n",
       "    </tr>\n",
       "    <tr>\n",
       "      <th>148538</th>\n",
       "      <td>559435</td>\n",
       "      <td>cafe-bella-ciao</td>\n",
       "      <td>821</td>\n",
       "      <td>2018-04-20</td>\n",
       "    </tr>\n",
       "    <tr>\n",
       "      <th>148539</th>\n",
       "      <td>418989</td>\n",
       "      <td>grill-zilla</td>\n",
       "      <td>821</td>\n",
       "      <td>2018-01-26</td>\n",
       "    </tr>\n",
       "    <tr>\n",
       "      <th>148540</th>\n",
       "      <td>447770</td>\n",
       "      <td>lazeez-kitchen</td>\n",
       "      <td>821</td>\n",
       "      <td>2018-03-22</td>\n",
       "    </tr>\n",
       "  </tbody>\n",
       "</table>\n",
       "<p>148541 rows × 4 columns</p>\n",
       "</div>"
      ],
      "text/plain": [
       "            id                    slug  city_id  created_at\n",
       "0       567335          ab-foods-point        1  2016-12-18\n",
       "1       531342       janta-sweet-house        1  2017-12-31\n",
       "2       158203       theka-coffee-desi        1  2017-08-19\n",
       "3       187912               singh-hut        1  2017-05-27\n",
       "4       543530           grill-masters        1  2017-08-12\n",
       "...        ...                     ...      ...         ...\n",
       "148536  553122        the-food-delight      821  2018-06-27\n",
       "148537  562647  maitri-foods-beverages      821  2018-12-01\n",
       "148538  559435         cafe-bella-ciao      821  2018-04-20\n",
       "148539  418989             grill-zilla      821  2018-01-26\n",
       "148540  447770          lazeez-kitchen      821  2018-03-22\n",
       "\n",
       "[148541 rows x 4 columns]"
      ]
     },
     "execution_count": 2,
     "metadata": {},
     "output_type": "execute_result"
    }
   ],
   "source": [
    "stores_df"
   ]
  },
  {
   "cell_type": "code",
   "execution_count": 3,
   "id": "7111607b-6c71-4079-aeba-782571c281d7",
   "metadata": {},
   "outputs": [
    {
     "data": {
      "text/html": [
       "<div>\n",
       "<style scoped>\n",
       "    .dataframe tbody tr th:only-of-type {\n",
       "        vertical-align: middle;\n",
       "    }\n",
       "\n",
       "    .dataframe tbody tr th {\n",
       "        vertical-align: top;\n",
       "    }\n",
       "\n",
       "    .dataframe thead th {\n",
       "        text-align: right;\n",
       "    }\n",
       "</style>\n",
       "<table border=\"1\" class=\"dataframe\">\n",
       "  <thead>\n",
       "    <tr style=\"text-align: right;\">\n",
       "      <th></th>\n",
       "      <th>id</th>\n",
       "      <th>type</th>\n",
       "      <th>store_id</th>\n",
       "      <th>created_at</th>\n",
       "    </tr>\n",
       "  </thead>\n",
       "  <tbody>\n",
       "    <tr>\n",
       "      <th>0</th>\n",
       "      <td>1</td>\n",
       "      <td>Beverages,Pizzas</td>\n",
       "      <td>567335</td>\n",
       "      <td>2017-10-10</td>\n",
       "    </tr>\n",
       "    <tr>\n",
       "      <th>1</th>\n",
       "      <td>2</td>\n",
       "      <td>Sweets,Bakery</td>\n",
       "      <td>531342</td>\n",
       "      <td>2018-05-08</td>\n",
       "    </tr>\n",
       "    <tr>\n",
       "      <th>2</th>\n",
       "      <td>3</td>\n",
       "      <td>Beverages</td>\n",
       "      <td>158203</td>\n",
       "      <td>2018-04-06</td>\n",
       "    </tr>\n",
       "    <tr>\n",
       "      <th>3</th>\n",
       "      <td>4</td>\n",
       "      <td>Fast Food,Indian</td>\n",
       "      <td>187912</td>\n",
       "      <td>2018-04-11</td>\n",
       "    </tr>\n",
       "    <tr>\n",
       "      <th>4</th>\n",
       "      <td>5</td>\n",
       "      <td>Italian-American,Fast Food</td>\n",
       "      <td>543530</td>\n",
       "      <td>2018-06-18</td>\n",
       "    </tr>\n",
       "    <tr>\n",
       "      <th>...</th>\n",
       "      <td>...</td>\n",
       "      <td>...</td>\n",
       "      <td>...</td>\n",
       "      <td>...</td>\n",
       "    </tr>\n",
       "    <tr>\n",
       "      <th>148659</th>\n",
       "      <td>148660</td>\n",
       "      <td>Fast Food,Snacks</td>\n",
       "      <td>553122</td>\n",
       "      <td>2019-01-22</td>\n",
       "    </tr>\n",
       "    <tr>\n",
       "      <th>148660</th>\n",
       "      <td>148661</td>\n",
       "      <td>Pizzas</td>\n",
       "      <td>562647</td>\n",
       "      <td>2019-01-23</td>\n",
       "    </tr>\n",
       "    <tr>\n",
       "      <th>148661</th>\n",
       "      <td>148662</td>\n",
       "      <td>Fast Food,Snacks</td>\n",
       "      <td>559435</td>\n",
       "      <td>2019-01-23</td>\n",
       "    </tr>\n",
       "    <tr>\n",
       "      <th>148662</th>\n",
       "      <td>148663</td>\n",
       "      <td>Continental</td>\n",
       "      <td>418989</td>\n",
       "      <td>2019-01-24</td>\n",
       "    </tr>\n",
       "    <tr>\n",
       "      <th>148663</th>\n",
       "      <td>148664</td>\n",
       "      <td>Pizzas</td>\n",
       "      <td>447770</td>\n",
       "      <td>2019-01-24</td>\n",
       "    </tr>\n",
       "  </tbody>\n",
       "</table>\n",
       "<p>148664 rows × 4 columns</p>\n",
       "</div>"
      ],
      "text/plain": [
       "            id                        type  store_id  created_at\n",
       "0            1            Beverages,Pizzas    567335  2017-10-10\n",
       "1            2               Sweets,Bakery    531342  2018-05-08\n",
       "2            3                   Beverages    158203  2018-04-06\n",
       "3            4            Fast Food,Indian    187912  2018-04-11\n",
       "4            5  Italian-American,Fast Food    543530  2018-06-18\n",
       "...        ...                         ...       ...         ...\n",
       "148659  148660            Fast Food,Snacks    553122  2019-01-22\n",
       "148660  148661                      Pizzas    562647  2019-01-23\n",
       "148661  148662            Fast Food,Snacks    559435  2019-01-23\n",
       "148662  148663                 Continental    418989  2019-01-24\n",
       "148663  148664                      Pizzas    447770  2019-01-24\n",
       "\n",
       "[148664 rows x 4 columns]"
      ]
     },
     "execution_count": 3,
     "metadata": {},
     "output_type": "execute_result"
    }
   ],
   "source": [
    "orders_df"
   ]
  },
  {
   "cell_type": "markdown",
   "id": "8ceab18e-fadd-4562-920a-88ce1d50d7b2",
   "metadata": {},
   "source": [
    "## 2. Preprocess the Data\r\n",
    "Data isn't always in the format we need. So, let's clean it up!."
   ]
  },
  {
   "cell_type": "code",
   "execution_count": 4,
   "id": "cadcbbe1-322b-452c-a26b-77ec87ad8049",
   "metadata": {
    "scrolled": true
   },
   "outputs": [
    {
     "data": {
      "text/plain": [
       "0         2016-12-18\n",
       "1         2017-12-31\n",
       "2         2017-08-19\n",
       "3         2017-05-27\n",
       "4         2017-08-12\n",
       "             ...    \n",
       "148536    2018-06-27\n",
       "148537    2018-12-01\n",
       "148538    2018-04-20\n",
       "148539    2018-01-26\n",
       "148540    2018-03-22\n",
       "Name: created_at, Length: 148541, dtype: object"
      ]
     },
     "execution_count": 4,
     "metadata": {},
     "output_type": "execute_result"
    }
   ],
   "source": [
    "stores_df['created_at']"
   ]
  },
  {
   "cell_type": "code",
   "execution_count": 5,
   "id": "3be7a7db-dee5-4f9d-839a-2485d09a44d8",
   "metadata": {
    "scrolled": true
   },
   "outputs": [
    {
     "data": {
      "text/plain": [
       "0         2017-10-10\n",
       "1         2018-05-08\n",
       "2         2018-04-06\n",
       "3         2018-04-11\n",
       "4         2018-06-18\n",
       "             ...    \n",
       "148659    2019-01-22\n",
       "148660    2019-01-23\n",
       "148661    2019-01-23\n",
       "148662    2019-01-24\n",
       "148663    2019-01-24\n",
       "Name: created_at, Length: 148664, dtype: object"
      ]
     },
     "execution_count": 5,
     "metadata": {},
     "output_type": "execute_result"
    }
   ],
   "source": [
    "orders_df['created_at']"
   ]
  },
  {
   "cell_type": "markdown",
   "id": "55411a09-7666-497d-99e9-e5dc1c4dfded",
   "metadata": {},
   "source": [
    " We'll convert dates to a proper format and handle any missing values to ensure our dataset is analysis-ready"
   ]
  },
  {
   "cell_type": "code",
   "execution_count": 6,
   "id": "01249fef-958b-47a2-be99-e44fd018007f",
   "metadata": {},
   "outputs": [
    {
     "name": "stderr",
     "output_type": "stream",
     "text": [
      "C:\\Users\\taha\\AppData\\Local\\Temp\\ipykernel_14408\\2777580981.py:6: FutureWarning: DataFrame.fillna with 'method' is deprecated and will raise in a future version. Use obj.ffill() or obj.bfill() instead.\n",
      "  stores_df.fillna(method='ffill', inplace=True)\n"
     ]
    }
   ],
   "source": [
    "# Convert date columns to datetime objects\n",
    "stores_df['created_at'] = pd.to_datetime(stores_df['created_at'])\n",
    "orders_df['created_at'] = pd.to_datetime(orders_df['created_at'])\n",
    "\n",
    "# Fill any missing data\n",
    "stores_df.fillna(method='ffill', inplace=True)\n"
   ]
  },
  {
   "cell_type": "markdown",
   "id": "dc34db46-31ce-4a1d-aba8-673388deeb90",
   "metadata": {},
   "source": [
    "Let's check our data again"
   ]
  },
  {
   "cell_type": "code",
   "execution_count": 7,
   "id": "4ccc36ac-2bcf-4cbe-8ef2-745f6f6921f0",
   "metadata": {},
   "outputs": [
    {
     "data": {
      "text/plain": [
       "0        2016-12-18\n",
       "1        2017-12-31\n",
       "2        2017-08-19\n",
       "3        2017-05-27\n",
       "4        2017-08-12\n",
       "            ...    \n",
       "148536   2018-06-27\n",
       "148537   2018-12-01\n",
       "148538   2018-04-20\n",
       "148539   2018-01-26\n",
       "148540   2018-03-22\n",
       "Name: created_at, Length: 148541, dtype: datetime64[ns]"
      ]
     },
     "execution_count": 7,
     "metadata": {},
     "output_type": "execute_result"
    }
   ],
   "source": [
    "stores_df['created_at']"
   ]
  },
  {
   "cell_type": "code",
   "execution_count": 8,
   "id": "5cad5149-6667-437d-b079-8bf15e8e19b3",
   "metadata": {},
   "outputs": [
    {
     "data": {
      "text/plain": [
       "0        2017-10-10\n",
       "1        2018-05-08\n",
       "2        2018-04-06\n",
       "3        2018-04-11\n",
       "4        2018-06-18\n",
       "            ...    \n",
       "148659   2019-01-22\n",
       "148660   2019-01-23\n",
       "148661   2019-01-23\n",
       "148662   2019-01-24\n",
       "148663   2019-01-24\n",
       "Name: created_at, Length: 148664, dtype: datetime64[ns]"
      ]
     },
     "execution_count": 8,
     "metadata": {},
     "output_type": "execute_result"
    }
   ],
   "source": [
    "orders_df['created_at']"
   ]
  },
  {
   "cell_type": "markdown",
   "id": "bf1ef7ce-ccac-457f-a46d-edb88737f2c8",
   "metadata": {},
   "source": [
    "## 3. Define Cohorts and Calculate Cohort Sizes\r\n",
    "Now, let's define our cohorts. A cohort is a group of stores that started at the same time. We'll categorize stores based on their creation month for our analysis."
   ]
  },
  {
   "cell_type": "code",
   "execution_count": 9,
   "id": "07891ba6-6b89-41ba-ab52-78166680cb0b",
   "metadata": {},
   "outputs": [],
   "source": [
    "# Creating a cohort based on the month stores were added\n",
    "stores_df['Cohort'] = stores_df['created_at'].dt.to_period('M')\n"
   ]
  },
  {
   "cell_type": "code",
   "execution_count": 10,
   "id": "bc3a85f0-4b3f-4902-a64e-241fee6edafc",
   "metadata": {},
   "outputs": [
    {
     "data": {
      "text/plain": [
       "0         2016-12\n",
       "1         2017-12\n",
       "2         2017-08\n",
       "3         2017-05\n",
       "4         2017-08\n",
       "           ...   \n",
       "148536    2018-06\n",
       "148537    2018-12\n",
       "148538    2018-04\n",
       "148539    2018-01\n",
       "148540    2018-03\n",
       "Name: Cohort, Length: 148541, dtype: period[M]"
      ]
     },
     "execution_count": 10,
     "metadata": {},
     "output_type": "execute_result"
    }
   ],
   "source": [
    "stores_df['Cohort'] "
   ]
  },
  {
   "cell_type": "markdown",
   "id": "5331eda1-4d85-4d9b-9fcb-e54f22fcb4d1",
   "metadata": {},
   "source": [
    "## 4. Merge with Transactional Data\r\n",
    "Next up, we merge our store data with their corresponding orders. This helps us track how active each store is over time, which is crucial for our retention analysis."
   ]
  },
  {
   "cell_type": "code",
   "execution_count": 11,
   "id": "cd93cbd0-d655-488c-80d5-20312bc75ecf",
   "metadata": {},
   "outputs": [],
   "source": [
    "# Merge store data with order data\n",
    "merged_df = pd.merge(orders_df, stores_df, left_on='store_id', right_index=True)\n"
   ]
  },
  {
   "cell_type": "code",
   "execution_count": 12,
   "id": "812a8936-0920-40d1-a356-0d37e97ebda9",
   "metadata": {
    "scrolled": true
   },
   "outputs": [
    {
     "name": "stdout",
     "output_type": "stream",
     "text": [
      "<class 'pandas.core.frame.DataFrame'>\n",
      "Index: 24872 entries, 130 to 148643\n",
      "Data columns (total 9 columns):\n",
      " #   Column        Non-Null Count  Dtype         \n",
      "---  ------        --------------  -----         \n",
      " 0   id_x          24872 non-null  int64         \n",
      " 1   type          24849 non-null  object        \n",
      " 2   store_id      24872 non-null  int64         \n",
      " 3   created_at_x  24872 non-null  datetime64[ns]\n",
      " 4   id_y          24872 non-null  int64         \n",
      " 5   slug          24872 non-null  object        \n",
      " 6   city_id       24872 non-null  int64         \n",
      " 7   created_at_y  24872 non-null  datetime64[ns]\n",
      " 8   Cohort        24872 non-null  period[M]     \n",
      "dtypes: datetime64[ns](2), int64(4), object(2), period[M](1)\n",
      "memory usage: 1.9+ MB\n"
     ]
    }
   ],
   "source": [
    "merged_df.info()"
   ]
  },
  {
   "cell_type": "code",
   "execution_count": 13,
   "id": "cfb31503-ae55-40df-bf34-fb6bccb9fbb3",
   "metadata": {},
   "outputs": [],
   "source": [
    "# Rename 'created_at_x' to 'order_date' and 'created_at_y' to 'store_created_at'\n",
    "merged_df = merged_df.rename(columns={'created_at_x': 'order_date', 'created_at_y': 'store_created_at'})\n"
   ]
  },
  {
   "cell_type": "code",
   "execution_count": 14,
   "id": "7b5105f2-02ea-44c4-8374-2d7763c27533",
   "metadata": {},
   "outputs": [
    {
     "data": {
      "text/html": [
       "<div>\n",
       "<style scoped>\n",
       "    .dataframe tbody tr th:only-of-type {\n",
       "        vertical-align: middle;\n",
       "    }\n",
       "\n",
       "    .dataframe tbody tr th {\n",
       "        vertical-align: top;\n",
       "    }\n",
       "\n",
       "    .dataframe thead th {\n",
       "        text-align: right;\n",
       "    }\n",
       "</style>\n",
       "<table border=\"1\" class=\"dataframe\">\n",
       "  <thead>\n",
       "    <tr style=\"text-align: right;\">\n",
       "      <th></th>\n",
       "      <th>id_x</th>\n",
       "      <th>type</th>\n",
       "      <th>store_id</th>\n",
       "      <th>order_date</th>\n",
       "      <th>id_y</th>\n",
       "      <th>slug</th>\n",
       "      <th>city_id</th>\n",
       "      <th>store_created_at</th>\n",
       "      <th>Cohort</th>\n",
       "    </tr>\n",
       "  </thead>\n",
       "  <tbody>\n",
       "    <tr>\n",
       "      <th>130</th>\n",
       "      <td>131</td>\n",
       "      <td>Bakery</td>\n",
       "      <td>138890</td>\n",
       "      <td>2019-11-08</td>\n",
       "      <td>123594</td>\n",
       "      <td>hotel-surya-executive</td>\n",
       "      <td>751</td>\n",
       "      <td>2017-07-10</td>\n",
       "      <td>2017-07</td>\n",
       "    </tr>\n",
       "    <tr>\n",
       "      <th>131</th>\n",
       "      <td>132</td>\n",
       "      <td>Bakery</td>\n",
       "      <td>138890</td>\n",
       "      <td>2019-02-11</td>\n",
       "      <td>123594</td>\n",
       "      <td>hotel-surya-executive</td>\n",
       "      <td>751</td>\n",
       "      <td>2017-07-10</td>\n",
       "      <td>2017-07</td>\n",
       "    </tr>\n",
       "    <tr>\n",
       "      <th>136</th>\n",
       "      <td>137</td>\n",
       "      <td>Indian,Chinese</td>\n",
       "      <td>137701</td>\n",
       "      <td>2019-11-29</td>\n",
       "      <td>141588</td>\n",
       "      <td>hug-in-hearts</td>\n",
       "      <td>735</td>\n",
       "      <td>2019-02-02</td>\n",
       "      <td>2019-02</td>\n",
       "    </tr>\n",
       "    <tr>\n",
       "      <th>137</th>\n",
       "      <td>138</td>\n",
       "      <td>Indian,Chinese</td>\n",
       "      <td>137701</td>\n",
       "      <td>2019-02-12</td>\n",
       "      <td>141588</td>\n",
       "      <td>hug-in-hearts</td>\n",
       "      <td>735</td>\n",
       "      <td>2019-02-02</td>\n",
       "      <td>2019-02</td>\n",
       "    </tr>\n",
       "    <tr>\n",
       "      <th>144</th>\n",
       "      <td>145</td>\n",
       "      <td>South Indian</td>\n",
       "      <td>133352</td>\n",
       "      <td>2020-01-09</td>\n",
       "      <td>155041</td>\n",
       "      <td>kolkata-new-arsalan-biryani-centre</td>\n",
       "      <td>682</td>\n",
       "      <td>2017-07-15</td>\n",
       "      <td>2017-07</td>\n",
       "    </tr>\n",
       "    <tr>\n",
       "      <th>...</th>\n",
       "      <td>...</td>\n",
       "      <td>...</td>\n",
       "      <td>...</td>\n",
       "      <td>...</td>\n",
       "      <td>...</td>\n",
       "      <td>...</td>\n",
       "      <td>...</td>\n",
       "      <td>...</td>\n",
       "      <td>...</td>\n",
       "    </tr>\n",
       "    <tr>\n",
       "      <th>148638</th>\n",
       "      <td>148639</td>\n",
       "      <td>Maharashtrian,North Indian</td>\n",
       "      <td>140477</td>\n",
       "      <td>2019-01-11</td>\n",
       "      <td>140409</td>\n",
       "      <td>dinesh-health-kitchen</td>\n",
       "      <td>760</td>\n",
       "      <td>2018-12-25</td>\n",
       "      <td>2018-12</td>\n",
       "    </tr>\n",
       "    <tr>\n",
       "      <th>148639</th>\n",
       "      <td>148640</td>\n",
       "      <td>North Indian,Fast Food</td>\n",
       "      <td>140174</td>\n",
       "      <td>2019-01-11</td>\n",
       "      <td>64621</td>\n",
       "      <td>waffle-house</td>\n",
       "      <td>759</td>\n",
       "      <td>2018-08-07</td>\n",
       "      <td>2018-08</td>\n",
       "    </tr>\n",
       "    <tr>\n",
       "      <th>148640</th>\n",
       "      <td>148641</td>\n",
       "      <td>North Indian</td>\n",
       "      <td>140154</td>\n",
       "      <td>2019-01-14</td>\n",
       "      <td>65812</td>\n",
       "      <td>shakti-the-sandwich-shop</td>\n",
       "      <td>759</td>\n",
       "      <td>2018-01-02</td>\n",
       "      <td>2018-01</td>\n",
       "    </tr>\n",
       "    <tr>\n",
       "      <th>148642</th>\n",
       "      <td>148643</td>\n",
       "      <td>Fast Food</td>\n",
       "      <td>140158</td>\n",
       "      <td>2019-01-14</td>\n",
       "      <td>580720</td>\n",
       "      <td>zaika-omlette-centre</td>\n",
       "      <td>759</td>\n",
       "      <td>2018-07-24</td>\n",
       "      <td>2018-07</td>\n",
       "    </tr>\n",
       "    <tr>\n",
       "      <th>148643</th>\n",
       "      <td>148644</td>\n",
       "      <td>South Indian</td>\n",
       "      <td>140155</td>\n",
       "      <td>2019-01-15</td>\n",
       "      <td>515055</td>\n",
       "      <td>rb-amlet-center</td>\n",
       "      <td>759</td>\n",
       "      <td>2018-04-22</td>\n",
       "      <td>2018-04</td>\n",
       "    </tr>\n",
       "  </tbody>\n",
       "</table>\n",
       "<p>24872 rows × 9 columns</p>\n",
       "</div>"
      ],
      "text/plain": [
       "          id_x                        type  store_id order_date    id_y  \\\n",
       "130        131                      Bakery    138890 2019-11-08  123594   \n",
       "131        132                      Bakery    138890 2019-02-11  123594   \n",
       "136        137              Indian,Chinese    137701 2019-11-29  141588   \n",
       "137        138              Indian,Chinese    137701 2019-02-12  141588   \n",
       "144        145                South Indian    133352 2020-01-09  155041   \n",
       "...        ...                         ...       ...        ...     ...   \n",
       "148638  148639  Maharashtrian,North Indian    140477 2019-01-11  140409   \n",
       "148639  148640      North Indian,Fast Food    140174 2019-01-11   64621   \n",
       "148640  148641                North Indian    140154 2019-01-14   65812   \n",
       "148642  148643                   Fast Food    140158 2019-01-14  580720   \n",
       "148643  148644                South Indian    140155 2019-01-15  515055   \n",
       "\n",
       "                                      slug  city_id store_created_at   Cohort  \n",
       "130                  hotel-surya-executive      751       2017-07-10  2017-07  \n",
       "131                  hotel-surya-executive      751       2017-07-10  2017-07  \n",
       "136                          hug-in-hearts      735       2019-02-02  2019-02  \n",
       "137                          hug-in-hearts      735       2019-02-02  2019-02  \n",
       "144     kolkata-new-arsalan-biryani-centre      682       2017-07-15  2017-07  \n",
       "...                                    ...      ...              ...      ...  \n",
       "148638               dinesh-health-kitchen      760       2018-12-25  2018-12  \n",
       "148639                        waffle-house      759       2018-08-07  2018-08  \n",
       "148640            shakti-the-sandwich-shop      759       2018-01-02  2018-01  \n",
       "148642                zaika-omlette-centre      759       2018-07-24  2018-07  \n",
       "148643                     rb-amlet-center      759       2018-04-22  2018-04  \n",
       "\n",
       "[24872 rows x 9 columns]"
      ]
     },
     "execution_count": 14,
     "metadata": {},
     "output_type": "execute_result"
    }
   ],
   "source": [
    "merged_df"
   ]
  },
  {
   "cell_type": "markdown",
   "id": "d35e244b-be55-4be5-846f-835218eb36c0",
   "metadata": {},
   "source": [
    "## 5. Calculate Retention\r\n",
    "It's crunch time! Let's calculate the retention rate. We want to see how many stores from each cohort continue to be active in the following months."
   ]
  },
  {
   "cell_type": "code",
   "execution_count": 15,
   "id": "3bdb1407-d30d-455a-acaa-3f6e458de285",
   "metadata": {},
   "outputs": [],
   "source": [
    "from operator import attrgetter\n",
    "\n",
    "# Assign acquisition month cohort\n",
    "merged_df['OrderMonth'] = merged_df['order_date'].dt.to_period('M')\n",
    "merged_df['CohortIndex'] = (merged_df['OrderMonth'] - merged_df['Cohort']).apply(attrgetter('n'))\n",
    "\n",
    "# Create a retention table\n",
    "cohort_data = merged_df.groupby(['Cohort', 'CohortIndex'])['store_id'].nunique().reset_index()\n",
    "cohort_count = cohort_data.pivot_table(index='Cohort', columns='CohortIndex', values='store_id')\n",
    "\n",
    "# Calculate retention as a percentage\n",
    "cohort_size = cohort_count.iloc[:,0]\n",
    "retention = cohort_count.divide(cohort_size, axis=0)\n"
   ]
  },
  {
   "cell_type": "markdown",
   "id": "a0d59b4e-8258-44a7-a13d-48e441cd05f5",
   "metadata": {},
   "source": [
    "## 6. Visualize the Results\r\n",
    "Finally, let's make our results easy to understand with a visualization. A heatmap works great here, showing us at a glance how well each cohort retains stores over time."
   ]
  },
  {
   "cell_type": "code",
   "execution_count": 18,
   "id": "12420b8b-9542-4a3c-8f0c-0e61b0fd2a11",
   "metadata": {},
   "outputs": [
    {
     "data": {
      "image/png": "[encoded data removed]",
      "text/plain": [
       "<Figure size 1400x600 with 2 Axes>"
      ]
     },
     "metadata": {},
     "output_type": "display_data"
    }
   ],
   "source": [
    "import seaborn as sns\n",
    "import matplotlib.pyplot as plt\n",
    "\n",
    "plt.figure(figsize=(14, 6))\n",
    "sns.heatmap(data=retention, annot=True, fmt='.0%')\n",
    "plt.title('Cohort Analysis - Store Retention')\n",
    "plt.show()\n"
   ]
  },
  {
   "cell_type": "markdown",
   "id": "ccc8e7e3-026f-4578-aa82-9e32563dbec7",
   "metadata": {},
   "source": [
    "And here we have a cohort analysis that provides us valuable insights into how well our stores are being retained over time."
   ]
  }
 ],
 "metadata": {
  "kernelspec": {
   "display_name": "Python 3 (ipykernel)",
   "language": "python",
   "name": "python3"
  },
  "language_info": {
   "codemirror_mode": {
    "name": "ipython",
    "version": 3
   },
   "file_extension": ".py",
   "mimetype": "text/x-python",
   "name": "python",
   "nbconvert_exporter": "python",
   "pygments_lexer": "ipython3",
   "version": "3.11.2"
  }
 },
 "nbformat": 4,
 "nbformat_minor": 5
}
